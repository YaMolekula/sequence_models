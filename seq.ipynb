{
 "cells": [
  {
   "cell_type": "code",
   "execution_count": 5,
   "metadata": {},
   "outputs": [],
   "source": [
    "# https://medium.com/@erikhallstrm/hello-world-rnn-83cd7105b767\n",
    "DEBUG = True\n",
    "\n",
    "import re, random, math, csv, io, string, itertools\n",
    "import numpy as np\n",
    "# import pandas as pd\n",
    "import tensorflow as tf"
   ]
  },
  {
   "cell_type": "code",
   "execution_count": 6,
   "metadata": {},
   "outputs": [],
   "source": [
    "hp = dict(\n",
    "    n_layers = 2,\n",
    "    hidden_size = 512,\n",
    "    fc_size = 512,\n",
    "    dropout = 0.9,\n",
    "    batch_size = 20,\n",
    "    lr = 0.001,\n",
    "    lr_decay = 0.9999,\n",
    "    min_lr = 0.00001,\n",
    "    grad_clip = 5.,\n",
    "    cuda = False,\n",
    "    num_epoch = 5,\n",
    "    max_length = 10\n",
    ")"
   ]
  },
  {
   "cell_type": "code",
   "execution_count": 7,
   "metadata": {},
   "outputs": [],
   "source": [
    "class Voc:\n",
    "    SOS = \"!\"\n",
    "    EOS = \"#\"\n",
    "    SOS_ID = 0\n",
    "    EOS_ID = 1\n",
    "    def __init__(self):\n",
    "        self.word2index = {self.SOS:0, self.EOS:1}\n",
    "        self.word2count = {}\n",
    "        self.index2word = {0:self.SOS, 1:self.EOS}\n",
    "        self.n_words = 2 # Count SOS and EOS\n",
    "\n",
    "    def index_words(self, sentence):\n",
    "        for word in sentence.split(' '):\n",
    "            self.index_word(word)\n",
    "\n",
    "    def index_word(self, word):\n",
    "        if word not in self.word2index:\n",
    "            self.word2index[word] = self.n_words\n",
    "            self.word2count[word] = 1\n",
    "            self.index2word[self.n_words] = word\n",
    "            self.n_words += 1\n",
    "        else:\n",
    "            self.word2count[word] += 1\n",
    "    \n",
    "def string2indicies(voc, text):\n",
    "    return [voc.word2index[c] for c in text]\n",
    "    \n",
    "def indicies2string(voc, indicies):\n",
    "    return \"\".join([voc.index2word[i] for i in indicies])\n",
    "\n",
    "voc = Voc()\n",
    "\n",
    "for c in itertools.chain(range(ord('a'), ord('z')+1),range(ord('A'),ord('Z')+1),(ord(\" \"),)):\n",
    "    voc.index_word(chr(c))\n",
    "# print(f'vocabulary size: {voc.n_words}')"
   ]
  },
  {
   "cell_type": "code",
   "execution_count": 24,
   "metadata": {},
   "outputs": [],
   "source": [
    "class PairGenerator:\n",
    "#     vocabulary = [chr(i) for i in itertools.chain(range(ord('a'), ord('z')+1),range(ord('A'),ord('Z')+1))]\n",
    "    word_len_interval = {\"a\":2,\"b\":7}\n",
    "    sent_len_interval = {\"a\":1,\"b\":10}\n",
    "    \n",
    "    def __init__(self,voc):\n",
    "        self.voc = voc\n",
    "        self.vocabulary = [c for c in voc.word2index.keys() if c not in {voc.SOS, voc.EOS}]\n",
    "        \n",
    "    def gen_word_pair(self):\n",
    "        word_len = int(random.uniform(**self.word_len_interval))\n",
    "#         word = random.choices(self.vocabulary,k=word_len)\n",
    "        word = np.random.choice(self.vocabulary,word_len)\n",
    "        return \"\".join(word), \"\".join(list(reversed(word)))\n",
    "    \n",
    "    def gen_pair(self):\n",
    "        num_words = int(random.uniform(**self.sent_len_interval))\n",
    "        inp, out = zip(*[self.gen_word_pair() for _ in range(num_words)])\n",
    "        return self.voc.SOS+\" \".join(inp)+self.voc.EOS, self.voc.SOS+\" \".join(out)+self.voc.EOS\n",
    "    \n",
    "    def gen_batch(self, n_unrollings):\n",
    "        inp, out = zip(*[self.gen_pair() for _ in range(n_unrollings)])\n",
    "        return inp, out\n",
    "    \n",
    "    def gen_int_batch(self, n_unrollings):\n",
    "        inp, out = zip(*[self.gen_pair() for _ in range(n_unrollings)])\n",
    "        \n",
    "        return \\\n",
    "            [string2indicies(self.voc, x) for x in inp], \\\n",
    "            [string2indicies(self.voc, x) for x in out]\n",
    "        \n",
    "pg = PairGenerator(voc)"
   ]
  },
  {
   "cell_type": "code",
   "execution_count": 48,
   "metadata": {},
   "outputs": [],
   "source": [
    "def generate_data(n_unrollings=100, echo_step=2, batch_size=5):\n",
    "    x = np.array(np.random.choice(2, n_unrollings, p=[0.5, 0.5]))\n",
    "    y = np.roll(x, echo_step)\n",
    "    y[0:echo_step] = 0\n",
    "\n",
    "    x = x.reshape((batch_size, -1))  # The first index changing slowest, subseries as rows\n",
    "    y = y.reshape((batch_size, -1))\n",
    "\n",
    "    return (x, y)"
   ]
  },
  {
   "cell_type": "code",
   "execution_count": 45,
   "metadata": {},
   "outputs": [],
   "source": [
    "x,y=generate_data()"
   ]
  },
  {
   "cell_type": "code",
   "execution_count": 46,
   "metadata": {},
   "outputs": [
    {
     "data": {
      "text/plain": [
       "array([[1, 1, 1, 1, 1, 0, 1, 1, 0, 0, 1, 1, 0, 0, 0, 1, 1, 0, 0, 0],\n",
       "       [0, 0, 0, 1, 0, 0, 0, 0, 0, 0, 1, 1, 0, 0, 1, 0, 0, 0, 1, 0],\n",
       "       [0, 0, 0, 0, 0, 1, 0, 1, 0, 0, 0, 1, 0, 0, 1, 1, 0, 1, 0, 0],\n",
       "       [0, 0, 1, 1, 1, 0, 1, 0, 1, 1, 0, 0, 0, 0, 1, 0, 1, 1, 1, 0],\n",
       "       [1, 1, 1, 1, 1, 1, 0, 0, 0, 0, 0, 1, 1, 1, 1, 1, 1, 0, 0, 1]])"
      ]
     },
     "execution_count": 46,
     "metadata": {},
     "output_type": "execute_result"
    }
   ],
   "source": [
    "x"
   ]
  },
  {
   "cell_type": "code",
   "execution_count": 47,
   "metadata": {},
   "outputs": [
    {
     "data": {
      "text/plain": [
       "array([[0, 0, 1, 1, 1, 1, 1, 0, 1, 1, 0, 0, 1, 1, 0, 0, 0, 1, 1, 0],\n",
       "       [0, 0, 0, 0, 0, 1, 0, 0, 0, 0, 0, 0, 1, 1, 0, 0, 1, 0, 0, 0],\n",
       "       [1, 0, 0, 0, 0, 0, 0, 1, 0, 1, 0, 0, 0, 1, 0, 0, 1, 1, 0, 1],\n",
       "       [0, 0, 0, 0, 1, 1, 1, 0, 1, 0, 1, 1, 0, 0, 0, 0, 1, 0, 1, 1],\n",
       "       [1, 0, 1, 1, 1, 1, 1, 1, 0, 0, 0, 0, 0, 1, 1, 1, 1, 1, 1, 0]])"
      ]
     },
     "execution_count": 47,
     "metadata": {},
     "output_type": "execute_result"
    }
   ],
   "source": [
    "y"
   ]
  },
  {
   "cell_type": "code",
   "execution_count": 26,
   "metadata": {},
   "outputs": [
    {
     "data": {
      "text/plain": [
       "array(['C', 'Q', 'F'], dtype='<U8')"
      ]
     },
     "execution_count": 26,
     "metadata": {},
     "output_type": "execute_result"
    }
   ],
   "source": [
    "np.random.choice(pg.vocabulary,3)"
   ]
  },
  {
   "cell_type": "code",
   "execution_count": 27,
   "metadata": {},
   "outputs": [],
   "source": [
    "X,Y = pg.gen_batch(n_unrollings=10)"
   ]
  },
  {
   "cell_type": "code",
   "execution_count": 56,
   "metadata": {},
   "outputs": [],
   "source": [
    "class GRU:\n",
    "    hp = dict(\n",
    "        state_sz=5,\n",
    "        n_classes=2,\n",
    "        input_dim=2,\n",
    "        ckpt_path=\"./checkpoints/\"\n",
    "    )\n",
    "    def __init__(self, **hyper_parameters):\n",
    "        if hyper_parameters is not None:\n",
    "            for k, v in hyper_parameters.items():\n",
    "                self.hp[k] = v\n",
    "        self.__graph__()\n",
    "    \n",
    "    def _init(self):\n",
    "        x = tf.placeholder(tf.int32, [None, None], \"x\") #batch*voc\n",
    "        y = tf.placeholder(tf.int32, [None, None], \"y\") #batch*voc\n",
    "        emb = tf.placeholder(tf.int32, [None, None],)\n",
    "        \n",
    "        # batch_sz*seq_len -> batch_sz*seq_ln*voc_sz\n",
    "        embs = tf.get_variable('emb', [self.hp['n_classes'], self.hp['state_sz']]) \n",
    "        rnn_inputs = tf.nn.embedding_lookup(embs, x)\n",
    "        \n",
    "        #batch*state_sz\n",
    "        init_state = tf.placeholder(tf.int32, [None, self.hp['state_sz']], \"init_state\")\n",
    "    \n",
    "    def _weights(self):\n",
    "        self.wz = tf.get_variable(\n",
    "            \"w[z]\", shape=[self.hp['state_sz'], self.hp['state_sz']],\n",
    "            initializer=tf.contrib.layers.xavier_initializer()\n",
    "        )\n",
    "        self.uz = tf.get_variable(\n",
    "            \"u[z]\", shape=[self.hp['state_sz'], self.hp['state_sz']],\n",
    "            initializer=tf.contrib.layers.xavier_initializer()\n",
    "        )\n",
    "        self.bz = tf.get_variable(\n",
    "            \"b[z]\", shape=[self.hp['state_sz']],\n",
    "            initializer=tf.constant_initializer(0.)\n",
    "        )\n",
    "        \n",
    "        self.wr = tf.get_variable(\n",
    "            \"w[r]\",  shape=[self.hp['state_sz'], self.hp['state_sz']],\n",
    "            initializer=tf.contrib.layers.xavier_initializer()\n",
    "        )\n",
    "        self.ur = tf.get_variable(\n",
    "            \"u[r]\",  shape=[self.hp['state_sz'], self.hp['state_sz']],\n",
    "            initializer=tf.contrib.layers.xavier_initializer()\n",
    "        )\n",
    "        self.br = tf.get_variable(\n",
    "            \"b[r]\", shape=[self.hp['state_sz']],\n",
    "            initializer=tf.constant_initializer(0.)\n",
    "        )\n",
    "        \n",
    "        self.wh = tf.get_variable(\n",
    "            \"w[h]\",  shape=[self.hp['state_sz'], self.hp['state_sz']],\n",
    "            initializer=tf.contrib.layers.xavier_initializer()\n",
    "        )\n",
    "        self.uh = tf.get_variable(\n",
    "            \"w[h]\",  shape=[self.hp['state_sz'], self.hp['state_sz']],\n",
    "            initializer=tf.contrib.layers.xavier_initializer()\n",
    "        )\n",
    "        self.bh = tf.get_variable(\n",
    "            \"b[h]\", shape=[self.hp['state_sz']],\n",
    "            initializer=tf.constant_initializer(0.)\n",
    "        )\n",
    "        \n",
    "        # layer to decode results of GRU \n",
    "        self.wo= tf.get_variable(\n",
    "            'w[out]', shape=[self.hp['state_sz'], self.hp['n_classes']], \n",
    "            initializer=tf.contrib.layers.xavier_initializer()\n",
    "        )\n",
    "        self.bo = tf.get_variable(\n",
    "            'b[out]', shape=[self.hp['num_classes']], \n",
    "            initializer=tf.constant_initializer(0.)\n",
    "        )\n",
    "    \n",
    "    def __graph__(self):\n",
    "        # time cycle step\n",
    "        def step(prev_state, x):\n",
    "            z = tf.matmul(x,self.wz) + tf.matmul(prev, self.uz) + self.bz\n",
    "            r = tf.matmul(x,self.wr) + tf.matmul(prev, self.ur) + self.br\n",
    "            h = tf.matmul(x,self.wh) + tf.matmul(h*prev, self.uh) + self.bh\n",
    "            return (1-z)*prev + z*h\n",
    "        \n",
    "        tf.reset_default_graph()\n",
    "        self._init()\n",
    "        self._weights()\n",
    "        states = tf.scan(\n",
    "            step,\n",
    "            #batch_sz*seq_ln*voc_sz -> seq_len*batch_sz*voc_sz\n",
    "            tf.transpose(self.rnn_inputs,[1,0,2]),\n",
    "            initializer=self.init_state\n",
    "        )\n",
    "        # seq_len*batch_sz*voc_sz -> batch_sz*seq_ln*voc_sz\n",
    "        states = tf.transpose(states,[1,0,2])\n",
    "        \n",
    "        states_reshaped = tf.reshape(states, [-1, state_size])\n",
    "        logits = tf.matmul(states_reshaped, self.wo) + self.bo\n",
    "        \n",
    "        self.last_state = states[-1]\n",
    "        self.predictions = tf.nn.softmax(logits)\n",
    "        self.loss = tf.reduce_mean(\n",
    "            tf.nn.sparse_softmax_cross_entropy_with_logits(logits,self.y)\n",
    "        )\n",
    "        self.train_op = tf.train.AdagradOptimizer(learning_rate=0.2).minimize(self.loss)\n",
    "        \n",
    "    def train(self,x_tarin, y_train,n_epochs = 10):\n",
    "        with tf.Session() as sess:\n",
    "            sess.run(tf.global_variables_initializer())\n",
    "            train_loss = 0\n",
    "            try:\n",
    "                for epoch_num in range(n_epochs):\n",
    "                    x,y = generate_data()\n",
    "                    batch_sz = x.shape[0]\n",
    "                    _, train_loss_ = sess.run([self.train_op, self.loss], feed_dict = {\n",
    "                        self.x : x,\n",
    "                        self.y : y.flatten(),\n",
    "                        self.init_state : np.zeros(\n",
    "                            [batch_sz, self.hp['state_sz']]\n",
    "                        )\n",
    "                    })\n",
    "            except KeyboardInterrupt as ex:\n",
    "                print(\"Interrupted by user at\")\n",
    "            saver = tf.train.Saver()\n",
    "            saver.save(sess, self.ckpt_path + \"nn.mdl\", global_step=i)"
   ]
  },
  {
   "cell_type": "code",
   "execution_count": 52,
   "metadata": {},
   "outputs": [
    {
     "data": {
      "text/plain": [
       "[0, 41, 16, 8, 54, 21, 51, 54, 23, 53, 42, 22, 25, 18, 1]"
      ]
     },
     "execution_count": 52,
     "metadata": {},
     "output_type": "execute_result"
    }
   ],
   "source": [
    "string2indicies(voc, X[0])"
   ]
  },
  {
   "cell_type": "code",
   "execution_count": 30,
   "metadata": {},
   "outputs": [],
   "source": [
    "len_ls = list(map(len,X))\n",
    "\n",
    "mx = max(len_ls)\n",
    "diff = list(map(lambda x: mx - x, len_ls))"
   ]
  },
  {
   "cell_type": "code",
   "execution_count": 31,
   "metadata": {},
   "outputs": [
    {
     "ename": "NameError",
     "evalue": "name 'xdiff' is not defined",
     "output_type": "error",
     "traceback": [
      "\u001b[0;31m---------------------------------------------------------------------------\u001b[0m",
      "\u001b[0;31mNameError\u001b[0m                                 Traceback (most recent call last)",
      "\u001b[0;32m<ipython-input-31-17ce60d114ee>\u001b[0m in \u001b[0;36m<module>\u001b[0;34m()\u001b[0m\n\u001b[0;32m----> 1\u001b[0;31m \u001b[0mvoc\u001b[0m\u001b[0;34m.\u001b[0m\u001b[0mword2index\u001b[0m\u001b[0;34m[\u001b[0m\u001b[0;34m' '\u001b[0m\u001b[0;34m]\u001b[0m\u001b[0;34m*\u001b[0m\u001b[0mxdiff\u001b[0m\u001b[0;34m\u001b[0m\u001b[0m\n\u001b[0m",
      "\u001b[0;31mNameError\u001b[0m: name 'xdiff' is not defined"
     ]
    }
   ],
   "source": [
    "voc.word2index[' ']*xdiff"
   ]
  },
  {
   "cell_type": "code",
   "execution_count": 57,
   "metadata": {},
   "outputs": [
    {
     "ename": "ValueError",
     "evalue": "'w[z]' is not a valid scope name",
     "output_type": "error",
     "traceback": [
      "\u001b[0;31m---------------------------------------------------------------------------\u001b[0m",
      "\u001b[0;31mValueError\u001b[0m                                Traceback (most recent call last)",
      "\u001b[0;32m<ipython-input-57-ba5c65b6d947>\u001b[0m in \u001b[0;36m<module>\u001b[0;34m()\u001b[0m\n\u001b[0;32m----> 1\u001b[0;31m \u001b[0mgru\u001b[0m \u001b[0;34m=\u001b[0m \u001b[0mGRU\u001b[0m\u001b[0;34m(\u001b[0m\u001b[0;34m)\u001b[0m\u001b[0;34m\u001b[0m\u001b[0m\n\u001b[0m",
      "\u001b[0;32m<ipython-input-56-4ba6e0f26d3d>\u001b[0m in \u001b[0;36m__init__\u001b[0;34m(self, **hyper_parameters)\u001b[0m\n\u001b[1;32m     10\u001b[0m             \u001b[0;32mfor\u001b[0m \u001b[0mk\u001b[0m\u001b[0;34m,\u001b[0m \u001b[0mv\u001b[0m \u001b[0;32min\u001b[0m \u001b[0mhyper_parameters\u001b[0m\u001b[0;34m.\u001b[0m\u001b[0mitems\u001b[0m\u001b[0;34m(\u001b[0m\u001b[0;34m)\u001b[0m\u001b[0;34m:\u001b[0m\u001b[0;34m\u001b[0m\u001b[0m\n\u001b[1;32m     11\u001b[0m                 \u001b[0mself\u001b[0m\u001b[0;34m.\u001b[0m\u001b[0mhp\u001b[0m\u001b[0;34m[\u001b[0m\u001b[0mk\u001b[0m\u001b[0;34m]\u001b[0m \u001b[0;34m=\u001b[0m \u001b[0mv\u001b[0m\u001b[0;34m\u001b[0m\u001b[0m\n\u001b[0;32m---> 12\u001b[0;31m         \u001b[0mself\u001b[0m\u001b[0;34m.\u001b[0m\u001b[0m__graph__\u001b[0m\u001b[0;34m(\u001b[0m\u001b[0;34m)\u001b[0m\u001b[0;34m\u001b[0m\u001b[0m\n\u001b[0m\u001b[1;32m     13\u001b[0m \u001b[0;34m\u001b[0m\u001b[0m\n\u001b[1;32m     14\u001b[0m     \u001b[0;32mdef\u001b[0m \u001b[0m_init\u001b[0m\u001b[0;34m(\u001b[0m\u001b[0mself\u001b[0m\u001b[0;34m)\u001b[0m\u001b[0;34m:\u001b[0m\u001b[0;34m\u001b[0m\u001b[0m\n",
      "\u001b[0;32m<ipython-input-56-4ba6e0f26d3d>\u001b[0m in \u001b[0;36m__graph__\u001b[0;34m(self)\u001b[0m\n\u001b[1;32m     84\u001b[0m         \u001b[0mtf\u001b[0m\u001b[0;34m.\u001b[0m\u001b[0mreset_default_graph\u001b[0m\u001b[0;34m(\u001b[0m\u001b[0;34m)\u001b[0m\u001b[0;34m\u001b[0m\u001b[0m\n\u001b[1;32m     85\u001b[0m         \u001b[0mself\u001b[0m\u001b[0;34m.\u001b[0m\u001b[0m_init\u001b[0m\u001b[0;34m(\u001b[0m\u001b[0;34m)\u001b[0m\u001b[0;34m\u001b[0m\u001b[0m\n\u001b[0;32m---> 86\u001b[0;31m         \u001b[0mself\u001b[0m\u001b[0;34m.\u001b[0m\u001b[0m_weights\u001b[0m\u001b[0;34m(\u001b[0m\u001b[0;34m)\u001b[0m\u001b[0;34m\u001b[0m\u001b[0m\n\u001b[0m\u001b[1;32m     87\u001b[0m         states = tf.scan(\n\u001b[1;32m     88\u001b[0m             \u001b[0mstep\u001b[0m\u001b[0;34m,\u001b[0m\u001b[0;34m\u001b[0m\u001b[0m\n",
      "\u001b[0;32m<ipython-input-56-4ba6e0f26d3d>\u001b[0m in \u001b[0;36m_weights\u001b[0;34m(self)\u001b[0m\n\u001b[1;32m     27\u001b[0m         self.wz = tf.get_variable(\n\u001b[1;32m     28\u001b[0m             \u001b[0;34m\"w[z]\"\u001b[0m\u001b[0;34m,\u001b[0m \u001b[0mshape\u001b[0m\u001b[0;34m=\u001b[0m\u001b[0;34m[\u001b[0m\u001b[0mself\u001b[0m\u001b[0;34m.\u001b[0m\u001b[0mhp\u001b[0m\u001b[0;34m[\u001b[0m\u001b[0;34m'state_sz'\u001b[0m\u001b[0;34m]\u001b[0m\u001b[0;34m,\u001b[0m \u001b[0mself\u001b[0m\u001b[0;34m.\u001b[0m\u001b[0mhp\u001b[0m\u001b[0;34m[\u001b[0m\u001b[0;34m'state_sz'\u001b[0m\u001b[0;34m]\u001b[0m\u001b[0;34m]\u001b[0m\u001b[0;34m,\u001b[0m\u001b[0;34m\u001b[0m\u001b[0m\n\u001b[0;32m---> 29\u001b[0;31m             \u001b[0minitializer\u001b[0m\u001b[0;34m=\u001b[0m\u001b[0mtf\u001b[0m\u001b[0;34m.\u001b[0m\u001b[0mcontrib\u001b[0m\u001b[0;34m.\u001b[0m\u001b[0mlayers\u001b[0m\u001b[0;34m.\u001b[0m\u001b[0mxavier_initializer\u001b[0m\u001b[0;34m(\u001b[0m\u001b[0;34m)\u001b[0m\u001b[0;34m\u001b[0m\u001b[0m\n\u001b[0m\u001b[1;32m     30\u001b[0m         )\n\u001b[1;32m     31\u001b[0m         self.uz = tf.get_variable(\n",
      "\u001b[0;32m~/py3/lib/python3.6/site-packages/tensorflow/python/ops/variable_scope.py\u001b[0m in \u001b[0;36mget_variable\u001b[0;34m(name, shape, dtype, initializer, regularizer, trainable, collections, caching_device, partitioner, validate_shape, use_resource, custom_getter, constraint, synchronization, aggregation)\u001b[0m\n\u001b[1;32m   1465\u001b[0m       \u001b[0mconstraint\u001b[0m\u001b[0;34m=\u001b[0m\u001b[0mconstraint\u001b[0m\u001b[0;34m,\u001b[0m\u001b[0;34m\u001b[0m\u001b[0m\n\u001b[1;32m   1466\u001b[0m       \u001b[0msynchronization\u001b[0m\u001b[0;34m=\u001b[0m\u001b[0msynchronization\u001b[0m\u001b[0;34m,\u001b[0m\u001b[0;34m\u001b[0m\u001b[0m\n\u001b[0;32m-> 1467\u001b[0;31m       aggregation=aggregation)\n\u001b[0m\u001b[1;32m   1468\u001b[0m \u001b[0;34m\u001b[0m\u001b[0m\n\u001b[1;32m   1469\u001b[0m \u001b[0;34m\u001b[0m\u001b[0m\n",
      "\u001b[0;32m~/py3/lib/python3.6/site-packages/tensorflow/python/ops/variable_scope.py\u001b[0m in \u001b[0;36mget_variable\u001b[0;34m(self, var_store, name, shape, dtype, initializer, regularizer, reuse, trainable, collections, caching_device, partitioner, validate_shape, use_resource, custom_getter, constraint, synchronization, aggregation)\u001b[0m\n\u001b[1;32m   1215\u001b[0m           \u001b[0mconstraint\u001b[0m\u001b[0;34m=\u001b[0m\u001b[0mconstraint\u001b[0m\u001b[0;34m,\u001b[0m\u001b[0;34m\u001b[0m\u001b[0m\n\u001b[1;32m   1216\u001b[0m           \u001b[0msynchronization\u001b[0m\u001b[0;34m=\u001b[0m\u001b[0msynchronization\u001b[0m\u001b[0;34m,\u001b[0m\u001b[0;34m\u001b[0m\u001b[0m\n\u001b[0;32m-> 1217\u001b[0;31m           aggregation=aggregation)\n\u001b[0m\u001b[1;32m   1218\u001b[0m \u001b[0;34m\u001b[0m\u001b[0m\n\u001b[1;32m   1219\u001b[0m   def _get_partitioned_variable(self,\n",
      "\u001b[0;32m~/py3/lib/python3.6/site-packages/tensorflow/python/ops/variable_scope.py\u001b[0m in \u001b[0;36mget_variable\u001b[0;34m(self, name, shape, dtype, initializer, regularizer, reuse, trainable, collections, caching_device, partitioner, validate_shape, use_resource, custom_getter, constraint, synchronization, aggregation)\u001b[0m\n\u001b[1;32m    525\u001b[0m           \u001b[0mconstraint\u001b[0m\u001b[0;34m=\u001b[0m\u001b[0mconstraint\u001b[0m\u001b[0;34m,\u001b[0m\u001b[0;34m\u001b[0m\u001b[0m\n\u001b[1;32m    526\u001b[0m           \u001b[0msynchronization\u001b[0m\u001b[0;34m=\u001b[0m\u001b[0msynchronization\u001b[0m\u001b[0;34m,\u001b[0m\u001b[0;34m\u001b[0m\u001b[0m\n\u001b[0;32m--> 527\u001b[0;31m           aggregation=aggregation)\n\u001b[0m\u001b[1;32m    528\u001b[0m \u001b[0;34m\u001b[0m\u001b[0m\n\u001b[1;32m    529\u001b[0m   def _get_partitioned_variable(self,\n",
      "\u001b[0;32m~/py3/lib/python3.6/site-packages/tensorflow/python/ops/variable_scope.py\u001b[0m in \u001b[0;36m_true_getter\u001b[0;34m(name, shape, dtype, initializer, regularizer, reuse, trainable, collections, caching_device, partitioner, validate_shape, use_resource, constraint, synchronization, aggregation)\u001b[0m\n\u001b[1;32m    479\u001b[0m           \u001b[0mconstraint\u001b[0m\u001b[0;34m=\u001b[0m\u001b[0mconstraint\u001b[0m\u001b[0;34m,\u001b[0m\u001b[0;34m\u001b[0m\u001b[0m\n\u001b[1;32m    480\u001b[0m           \u001b[0msynchronization\u001b[0m\u001b[0;34m=\u001b[0m\u001b[0msynchronization\u001b[0m\u001b[0;34m,\u001b[0m\u001b[0;34m\u001b[0m\u001b[0m\n\u001b[0;32m--> 481\u001b[0;31m           aggregation=aggregation)\n\u001b[0m\u001b[1;32m    482\u001b[0m \u001b[0;34m\u001b[0m\u001b[0m\n\u001b[1;32m    483\u001b[0m     \u001b[0;31m# Set trainable value based on synchronization value.\u001b[0m\u001b[0;34m\u001b[0m\u001b[0;34m\u001b[0m\u001b[0m\n",
      "\u001b[0;32m~/py3/lib/python3.6/site-packages/tensorflow/python/ops/variable_scope.py\u001b[0m in \u001b[0;36m_get_single_variable\u001b[0;34m(self, name, shape, dtype, initializer, regularizer, partition_info, reuse, trainable, collections, caching_device, validate_shape, use_resource, constraint, synchronization, aggregation)\u001b[0m\n\u001b[1;32m    901\u001b[0m         \u001b[0muse_resource\u001b[0m\u001b[0;34m=\u001b[0m\u001b[0muse_resource\u001b[0m\u001b[0;34m,\u001b[0m\u001b[0;34m\u001b[0m\u001b[0m\n\u001b[1;32m    902\u001b[0m         \u001b[0msynchronization\u001b[0m\u001b[0;34m=\u001b[0m\u001b[0msynchronization\u001b[0m\u001b[0;34m,\u001b[0m\u001b[0;34m\u001b[0m\u001b[0m\n\u001b[0;32m--> 903\u001b[0;31m         aggregation=aggregation)\n\u001b[0m\u001b[1;32m    904\u001b[0m     \u001b[0;32mif\u001b[0m \u001b[0mcontext\u001b[0m\u001b[0;34m.\u001b[0m\u001b[0mexecuting_eagerly\u001b[0m\u001b[0;34m(\u001b[0m\u001b[0;34m)\u001b[0m \u001b[0;32mand\u001b[0m \u001b[0mself\u001b[0m\u001b[0;34m.\u001b[0m\u001b[0m_store_eager_variables\u001b[0m\u001b[0;34m:\u001b[0m\u001b[0;34m\u001b[0m\u001b[0m\n\u001b[1;32m    905\u001b[0m       \u001b[0;32mif\u001b[0m \u001b[0mcollections\u001b[0m\u001b[0;34m:\u001b[0m\u001b[0;34m\u001b[0m\u001b[0m\n",
      "\u001b[0;32m~/py3/lib/python3.6/site-packages/tensorflow/python/ops/variable_scope.py\u001b[0m in \u001b[0;36mvariable\u001b[0;34m(initial_value, trainable, collections, validate_shape, caching_device, name, dtype, constraint, use_resource, synchronization, aggregation)\u001b[0m\n\u001b[1;32m   2441\u001b[0m       \u001b[0muse_resource\u001b[0m\u001b[0;34m=\u001b[0m\u001b[0muse_resource\u001b[0m\u001b[0;34m,\u001b[0m\u001b[0;34m\u001b[0m\u001b[0m\n\u001b[1;32m   2442\u001b[0m       \u001b[0msynchronization\u001b[0m\u001b[0;34m=\u001b[0m\u001b[0msynchronization\u001b[0m\u001b[0;34m,\u001b[0m\u001b[0;34m\u001b[0m\u001b[0m\n\u001b[0;32m-> 2443\u001b[0;31m       aggregation=aggregation)\n\u001b[0m\u001b[1;32m   2444\u001b[0m \u001b[0;34m\u001b[0m\u001b[0m\n\u001b[1;32m   2445\u001b[0m \u001b[0;34m\u001b[0m\u001b[0m\n",
      "\u001b[0;32m~/py3/lib/python3.6/site-packages/tensorflow/python/ops/variable_scope.py\u001b[0m in \u001b[0;36m<lambda>\u001b[0;34m(**kwargs)\u001b[0m\n\u001b[1;32m   2423\u001b[0m              \u001b[0msynchronization\u001b[0m\u001b[0;34m=\u001b[0m\u001b[0mVariableSynchronization\u001b[0m\u001b[0;34m.\u001b[0m\u001b[0mAUTO\u001b[0m\u001b[0;34m,\u001b[0m\u001b[0;34m\u001b[0m\u001b[0m\n\u001b[1;32m   2424\u001b[0m              aggregation=VariableAggregation.NONE):\n\u001b[0;32m-> 2425\u001b[0;31m   \u001b[0mprevious_getter\u001b[0m \u001b[0;34m=\u001b[0m \u001b[0;32mlambda\u001b[0m \u001b[0;34m**\u001b[0m\u001b[0mkwargs\u001b[0m\u001b[0;34m:\u001b[0m \u001b[0mdefault_variable_creator\u001b[0m\u001b[0;34m(\u001b[0m\u001b[0;32mNone\u001b[0m\u001b[0;34m,\u001b[0m \u001b[0;34m**\u001b[0m\u001b[0mkwargs\u001b[0m\u001b[0;34m)\u001b[0m\u001b[0;34m\u001b[0m\u001b[0m\n\u001b[0m\u001b[1;32m   2426\u001b[0m   \u001b[0;32mfor\u001b[0m \u001b[0mgetter\u001b[0m \u001b[0;32min\u001b[0m \u001b[0mops\u001b[0m\u001b[0;34m.\u001b[0m\u001b[0mget_default_graph\u001b[0m\u001b[0;34m(\u001b[0m\u001b[0;34m)\u001b[0m\u001b[0;34m.\u001b[0m\u001b[0m_variable_creator_stack\u001b[0m\u001b[0;34m:\u001b[0m  \u001b[0;31m# pylint: disable=protected-access\u001b[0m\u001b[0;34m\u001b[0m\u001b[0m\n\u001b[1;32m   2427\u001b[0m     \u001b[0mprevious_getter\u001b[0m \u001b[0;34m=\u001b[0m \u001b[0m_make_getter\u001b[0m\u001b[0;34m(\u001b[0m\u001b[0mgetter\u001b[0m\u001b[0;34m,\u001b[0m \u001b[0mprevious_getter\u001b[0m\u001b[0;34m)\u001b[0m\u001b[0;34m\u001b[0m\u001b[0m\n",
      "\u001b[0;32m~/py3/lib/python3.6/site-packages/tensorflow/python/ops/variable_scope.py\u001b[0m in \u001b[0;36mdefault_variable_creator\u001b[0;34m(next_creator, **kwargs)\u001b[0m\n\u001b[1;32m   2404\u001b[0m         \u001b[0mcollections\u001b[0m\u001b[0;34m=\u001b[0m\u001b[0mcollections\u001b[0m\u001b[0;34m,\u001b[0m \u001b[0mvalidate_shape\u001b[0m\u001b[0;34m=\u001b[0m\u001b[0mvalidate_shape\u001b[0m\u001b[0;34m,\u001b[0m\u001b[0;34m\u001b[0m\u001b[0m\n\u001b[1;32m   2405\u001b[0m         \u001b[0mcaching_device\u001b[0m\u001b[0;34m=\u001b[0m\u001b[0mcaching_device\u001b[0m\u001b[0;34m,\u001b[0m \u001b[0mname\u001b[0m\u001b[0;34m=\u001b[0m\u001b[0mname\u001b[0m\u001b[0;34m,\u001b[0m \u001b[0mdtype\u001b[0m\u001b[0;34m=\u001b[0m\u001b[0mdtype\u001b[0m\u001b[0;34m,\u001b[0m\u001b[0;34m\u001b[0m\u001b[0m\n\u001b[0;32m-> 2406\u001b[0;31m         constraint=constraint)\n\u001b[0m\u001b[1;32m   2407\u001b[0m \u001b[0;34m\u001b[0m\u001b[0m\n\u001b[1;32m   2408\u001b[0m \u001b[0;34m\u001b[0m\u001b[0m\n",
      "\u001b[0;32m~/py3/lib/python3.6/site-packages/tensorflow/python/ops/variables.py\u001b[0m in \u001b[0;36m__init__\u001b[0;34m(self, initial_value, trainable, collections, validate_shape, caching_device, name, variable_def, dtype, expected_shape, import_scope, constraint)\u001b[0m\n\u001b[1;32m    257\u001b[0m           \u001b[0mdtype\u001b[0m\u001b[0;34m=\u001b[0m\u001b[0mdtype\u001b[0m\u001b[0;34m,\u001b[0m\u001b[0;34m\u001b[0m\u001b[0m\n\u001b[1;32m    258\u001b[0m           \u001b[0mexpected_shape\u001b[0m\u001b[0;34m=\u001b[0m\u001b[0mexpected_shape\u001b[0m\u001b[0;34m,\u001b[0m\u001b[0;34m\u001b[0m\u001b[0m\n\u001b[0;32m--> 259\u001b[0;31m           constraint=constraint)\n\u001b[0m\u001b[1;32m    260\u001b[0m \u001b[0;34m\u001b[0m\u001b[0m\n\u001b[1;32m    261\u001b[0m   \u001b[0;32mdef\u001b[0m \u001b[0m__repr__\u001b[0m\u001b[0;34m(\u001b[0m\u001b[0mself\u001b[0m\u001b[0;34m)\u001b[0m\u001b[0;34m:\u001b[0m\u001b[0;34m\u001b[0m\u001b[0m\n",
      "\u001b[0;32m~/py3/lib/python3.6/site-packages/tensorflow/python/ops/variables.py\u001b[0m in \u001b[0;36m_init_from_args\u001b[0;34m(self, initial_value, trainable, collections, validate_shape, caching_device, name, dtype, expected_shape, constraint)\u001b[0m\n\u001b[1;32m    352\u001b[0m             \"Please use tf.contrib.eager.Variable instead\")\n\u001b[1;32m    353\u001b[0m       with ops.name_scope(name, \"Variable\", [] if init_from_fn else\n\u001b[0;32m--> 354\u001b[0;31m                           [initial_value]) as name:\n\u001b[0m\u001b[1;32m    355\u001b[0m \u001b[0;34m\u001b[0m\u001b[0m\n\u001b[1;32m    356\u001b[0m         \u001b[0;32mif\u001b[0m \u001b[0minit_from_fn\u001b[0m\u001b[0;34m:\u001b[0m\u001b[0;34m\u001b[0m\u001b[0m\n",
      "\u001b[0;32m~/py3/lib/python3.6/site-packages/tensorflow/python/framework/ops.py\u001b[0m in \u001b[0;36m__enter__\u001b[0;34m(self)\u001b[0m\n\u001b[1;32m   5773\u001b[0m       \u001b[0;32mtry\u001b[0m\u001b[0;34m:\u001b[0m\u001b[0;34m\u001b[0m\u001b[0m\n\u001b[1;32m   5774\u001b[0m         \u001b[0mself\u001b[0m\u001b[0;34m.\u001b[0m\u001b[0m_name_scope\u001b[0m \u001b[0;34m=\u001b[0m \u001b[0mg\u001b[0m\u001b[0;34m.\u001b[0m\u001b[0mname_scope\u001b[0m\u001b[0;34m(\u001b[0m\u001b[0mself\u001b[0m\u001b[0;34m.\u001b[0m\u001b[0m_name\u001b[0m\u001b[0;34m)\u001b[0m\u001b[0;34m\u001b[0m\u001b[0m\n\u001b[0;32m-> 5775\u001b[0;31m         \u001b[0;32mreturn\u001b[0m \u001b[0mself\u001b[0m\u001b[0;34m.\u001b[0m\u001b[0m_name_scope\u001b[0m\u001b[0;34m.\u001b[0m\u001b[0m__enter__\u001b[0m\u001b[0;34m(\u001b[0m\u001b[0;34m)\u001b[0m\u001b[0;34m\u001b[0m\u001b[0m\n\u001b[0m\u001b[1;32m   5776\u001b[0m       \u001b[0;32mexcept\u001b[0m\u001b[0;34m:\u001b[0m\u001b[0;34m\u001b[0m\u001b[0m\n\u001b[1;32m   5777\u001b[0m         \u001b[0mself\u001b[0m\u001b[0;34m.\u001b[0m\u001b[0m_g_manager\u001b[0m\u001b[0;34m.\u001b[0m\u001b[0m__exit__\u001b[0m\u001b[0;34m(\u001b[0m\u001b[0;34m*\u001b[0m\u001b[0msys\u001b[0m\u001b[0;34m.\u001b[0m\u001b[0mexc_info\u001b[0m\u001b[0;34m(\u001b[0m\u001b[0;34m)\u001b[0m\u001b[0;34m)\u001b[0m\u001b[0;34m\u001b[0m\u001b[0m\n",
      "\u001b[0;32m/usr/local/Cellar/python/3.6.5/Frameworks/Python.framework/Versions/3.6/lib/python3.6/contextlib.py\u001b[0m in \u001b[0;36m__enter__\u001b[0;34m(self)\u001b[0m\n\u001b[1;32m     79\u001b[0m     \u001b[0;32mdef\u001b[0m \u001b[0m__enter__\u001b[0m\u001b[0;34m(\u001b[0m\u001b[0mself\u001b[0m\u001b[0;34m)\u001b[0m\u001b[0;34m:\u001b[0m\u001b[0;34m\u001b[0m\u001b[0m\n\u001b[1;32m     80\u001b[0m         \u001b[0;32mtry\u001b[0m\u001b[0;34m:\u001b[0m\u001b[0;34m\u001b[0m\u001b[0m\n\u001b[0;32m---> 81\u001b[0;31m             \u001b[0;32mreturn\u001b[0m \u001b[0mnext\u001b[0m\u001b[0;34m(\u001b[0m\u001b[0mself\u001b[0m\u001b[0;34m.\u001b[0m\u001b[0mgen\u001b[0m\u001b[0;34m)\u001b[0m\u001b[0;34m\u001b[0m\u001b[0m\n\u001b[0m\u001b[1;32m     82\u001b[0m         \u001b[0;32mexcept\u001b[0m \u001b[0mStopIteration\u001b[0m\u001b[0;34m:\u001b[0m\u001b[0;34m\u001b[0m\u001b[0m\n\u001b[1;32m     83\u001b[0m             \u001b[0;32mraise\u001b[0m \u001b[0mRuntimeError\u001b[0m\u001b[0;34m(\u001b[0m\u001b[0;34m\"generator didn't yield\"\u001b[0m\u001b[0;34m)\u001b[0m \u001b[0;32mfrom\u001b[0m \u001b[0;32mNone\u001b[0m\u001b[0;34m\u001b[0m\u001b[0m\n",
      "\u001b[0;32m~/py3/lib/python3.6/site-packages/tensorflow/python/framework/ops.py\u001b[0m in \u001b[0;36mname_scope\u001b[0;34m(self, name)\u001b[0m\n\u001b[1;32m   3849\u001b[0m         \u001b[0;31m# op name regex, which constrains the initial character.\u001b[0m\u001b[0;34m\u001b[0m\u001b[0;34m\u001b[0m\u001b[0m\n\u001b[1;32m   3850\u001b[0m         \u001b[0;32mif\u001b[0m \u001b[0;32mnot\u001b[0m \u001b[0m_VALID_OP_NAME_REGEX\u001b[0m\u001b[0;34m.\u001b[0m\u001b[0mmatch\u001b[0m\u001b[0;34m(\u001b[0m\u001b[0mname\u001b[0m\u001b[0;34m)\u001b[0m\u001b[0;34m:\u001b[0m\u001b[0;34m\u001b[0m\u001b[0m\n\u001b[0;32m-> 3851\u001b[0;31m           \u001b[0;32mraise\u001b[0m \u001b[0mValueError\u001b[0m\u001b[0;34m(\u001b[0m\u001b[0;34m\"'%s' is not a valid scope name\"\u001b[0m \u001b[0;34m%\u001b[0m \u001b[0mname\u001b[0m\u001b[0;34m)\u001b[0m\u001b[0;34m\u001b[0m\u001b[0m\n\u001b[0m\u001b[1;32m   3852\u001b[0m     \u001b[0;32mtry\u001b[0m\u001b[0;34m:\u001b[0m\u001b[0;34m\u001b[0m\u001b[0m\n\u001b[1;32m   3853\u001b[0m       \u001b[0mold_stack\u001b[0m \u001b[0;34m=\u001b[0m \u001b[0mself\u001b[0m\u001b[0;34m.\u001b[0m\u001b[0m_name_stack\u001b[0m\u001b[0;34m\u001b[0m\u001b[0m\n",
      "\u001b[0;31mValueError\u001b[0m: 'w[z]' is not a valid scope name"
     ]
    }
   ],
   "source": [
    "gru = GRU()"
   ]
  },
  {
   "cell_type": "code",
   "execution_count": null,
   "metadata": {},
   "outputs": [],
   "source": []
  },
  {
   "cell_type": "code",
   "execution_count": 33,
   "metadata": {},
   "outputs": [
    {
     "ename": "ValueError",
     "evalue": "too many values to unpack (expected 2)",
     "output_type": "error",
     "traceback": [
      "\u001b[0;31m---------------------------------------------------------------------------\u001b[0m",
      "\u001b[0;31mValueError\u001b[0m                                Traceback (most recent call last)",
      "\u001b[0;32m<ipython-input-33-e06539a6a891>\u001b[0m in \u001b[0;36m<module>\u001b[0;34m()\u001b[0m\n\u001b[1;32m      2\u001b[0m     *[\n\u001b[1;32m      3\u001b[0m         \u001b[0mstring2indicies\u001b[0m\u001b[0;34m(\u001b[0m\u001b[0mvoc\u001b[0m\u001b[0;34m,\u001b[0m \u001b[0ms\u001b[0m\u001b[0;34m)\u001b[0m\u001b[0;34m\u001b[0m\u001b[0m\n\u001b[0;32m----> 4\u001b[0;31m         \u001b[0;32mfor\u001b[0m \u001b[0ms\u001b[0m \u001b[0;32min\u001b[0m \u001b[0mpg\u001b[0m\u001b[0;34m.\u001b[0m\u001b[0mgen_pair\u001b[0m\u001b[0;34m(\u001b[0m\u001b[0;34m)\u001b[0m\u001b[0;34m\u001b[0m\u001b[0m\n\u001b[0m\u001b[1;32m      5\u001b[0m     ]\n\u001b[1;32m      6\u001b[0m )\n",
      "\u001b[0;31mValueError\u001b[0m: too many values to unpack (expected 2)"
     ]
    }
   ],
   "source": [
    "inp, out = zip(\n",
    "    *[\n",
    "        string2indicies(voc, s) \n",
    "        for s in pg.gen_pair()\n",
    "    ]\n",
    ")"
   ]
  },
  {
   "cell_type": "code",
   "execution_count": 34,
   "metadata": {},
   "outputs": [
    {
     "data": {
      "text/plain": [
       "['!vKNE hc buYyqN#', '!ENKv ch NqyYub#']"
      ]
     },
     "execution_count": 34,
     "metadata": {},
     "output_type": "execute_result"
    }
   ],
   "source": [
    "[a for a in pg.gen_pair()]"
   ]
  },
  {
   "cell_type": "code",
   "execution_count": 36,
   "metadata": {},
   "outputs": [],
   "source": [
    "x,y=pg.gen_int_batch(10)"
   ]
  },
  {
   "cell_type": "code",
   "execution_count": 37,
   "metadata": {},
   "outputs": [
    {
     "data": {
      "text/plain": [
       "[[0,\n",
       "  46,\n",
       "  10,\n",
       "  54,\n",
       "  14,\n",
       "  35,\n",
       "  54,\n",
       "  0,\n",
       "  35,\n",
       "  38,\n",
       "  6,\n",
       "  17,\n",
       "  14,\n",
       "  4,\n",
       "  1,\n",
       "  14,\n",
       "  44,\n",
       "  53,\n",
       "  10,\n",
       "  54,\n",
       "  54,\n",
       "  6,\n",
       "  4,\n",
       "  11,\n",
       "  37,\n",
       "  41,\n",
       "  11,\n",
       "  54,\n",
       "  42,\n",
       "  18,\n",
       "  41,\n",
       "  46,\n",
       "  51,\n",
       "  38,\n",
       "  54,\n",
       "  15,\n",
       "  47,\n",
       "  27,\n",
       "  54,\n",
       "  11,\n",
       "  42,\n",
       "  36,\n",
       "  38,\n",
       "  36,\n",
       "  33,\n",
       "  54,\n",
       "  44,\n",
       "  41,\n",
       "  4,\n",
       "  42,\n",
       "  32,\n",
       "  1],\n",
       " [0,\n",
       "  14,\n",
       "  50,\n",
       "  32,\n",
       "  18,\n",
       "  54,\n",
       "  37,\n",
       "  20,\n",
       "  39,\n",
       "  54,\n",
       "  44,\n",
       "  43,\n",
       "  54,\n",
       "  40,\n",
       "  48,\n",
       "  15,\n",
       "  16,\n",
       "  49,\n",
       "  31,\n",
       "  1],\n",
       " [0, 16, 24, 54, 35, 31, 1],\n",
       " [0,\n",
       "  24,\n",
       "  12,\n",
       "  42,\n",
       "  21,\n",
       "  54,\n",
       "  14,\n",
       "  6,\n",
       "  54,\n",
       "  15,\n",
       "  2,\n",
       "  6,\n",
       "  9,\n",
       "  54,\n",
       "  46,\n",
       "  51,\n",
       "  33,\n",
       "  54,\n",
       "  39,\n",
       "  46,\n",
       "  6,\n",
       "  30,\n",
       "  54,\n",
       "  41,\n",
       "  39,\n",
       "  54,\n",
       "  7,\n",
       "  6,\n",
       "  39,\n",
       "  54,\n",
       "  3,\n",
       "  41,\n",
       "  54,\n",
       "  22,\n",
       "  19,\n",
       "  41,\n",
       "  39,\n",
       "  38,\n",
       "  54,\n",
       "  50,\n",
       "  35,\n",
       "  36,\n",
       "  18,\n",
       "  16,\n",
       "  1],\n",
       " [0, 40, 35, 5, 19, 54, 6, 19, 7, 54, 53, 54, 6, 53, 2, 54, 48, 13, 33, 1],\n",
       " [0,\n",
       "  0,\n",
       "  35,\n",
       "  38,\n",
       "  6,\n",
       "  17,\n",
       "  14,\n",
       "  4,\n",
       "  1,\n",
       "  11,\n",
       "  40,\n",
       "  54,\n",
       "  53,\n",
       "  22,\n",
       "  35,\n",
       "  8,\n",
       "  12,\n",
       "  26,\n",
       "  54,\n",
       "  26,\n",
       "  51,\n",
       "  16,\n",
       "  54,\n",
       "  39,\n",
       "  41,\n",
       "  53,\n",
       "  29,\n",
       "  36,\n",
       "  54,\n",
       "  32,\n",
       "  38,\n",
       "  54,\n",
       "  37,\n",
       "  3,\n",
       "  21,\n",
       "  37,\n",
       "  11,\n",
       "  1],\n",
       " [0, 37, 41, 53, 8, 20, 1],\n",
       " [0,\n",
       "  5,\n",
       "  35,\n",
       "  54,\n",
       "  23,\n",
       "  9,\n",
       "  20,\n",
       "  54,\n",
       "  15,\n",
       "  12,\n",
       "  32,\n",
       "  53,\n",
       "  54,\n",
       "  5,\n",
       "  40,\n",
       "  48,\n",
       "  54,\n",
       "  48,\n",
       "  27,\n",
       "  13,\n",
       "  23,\n",
       "  54,\n",
       "  33,\n",
       "  48,\n",
       "  23,\n",
       "  28,\n",
       "  2,\n",
       "  51,\n",
       "  54,\n",
       "  24,\n",
       "  45,\n",
       "  11,\n",
       "  54,\n",
       "  31,\n",
       "  42,\n",
       "  42,\n",
       "  1],\n",
       " [0,\n",
       "  28,\n",
       "  18,\n",
       "  51,\n",
       "  34,\n",
       "  54,\n",
       "  2,\n",
       "  38,\n",
       "  54,\n",
       "  49,\n",
       "  6,\n",
       "  33,\n",
       "  22,\n",
       "  54,\n",
       "  33,\n",
       "  27,\n",
       "  32,\n",
       "  17,\n",
       "  42,\n",
       "  54,\n",
       "  41,\n",
       "  33,\n",
       "  1],\n",
       " [0, 51, 12, 48, 12, 21, 31, 54, 33, 26, 41, 1]]"
      ]
     },
     "execution_count": 37,
     "metadata": {},
     "output_type": "execute_result"
    }
   ],
   "source": [
    "x"
   ]
  },
  {
   "cell_type": "code",
   "execution_count": null,
   "metadata": {},
   "outputs": [],
   "source": []
  }
 ],
 "metadata": {
  "anaconda-cloud": {},
  "kernelspec": {
   "display_name": "Python 3",
   "language": "python",
   "name": "python3"
  },
  "language_info": {
   "codemirror_mode": {
    "name": "ipython",
    "version": 3
   },
   "file_extension": ".py",
   "mimetype": "text/x-python",
   "name": "python",
   "nbconvert_exporter": "python",
   "pygments_lexer": "ipython3",
   "version": "3.6.5"
  }
 },
 "nbformat": 4,
 "nbformat_minor": 2
}
